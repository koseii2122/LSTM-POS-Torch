{
  "nbformat": 4,
  "nbformat_minor": 0,
  "metadata": {
    "colab": {
      "provenance": [],
      "gpuType": "T4",
      "authorship_tag": "ABX9TyPCbVZEufrQakTry97rw4Pc",
      "include_colab_link": true
    },
    "kernelspec": {
      "name": "python3",
      "display_name": "Python 3"
    },
    "language_info": {
      "name": "python"
    },
    "accelerator": "GPU"
  },
  "cells": [
    {
      "cell_type": "markdown",
      "metadata": {
        "id": "view-in-github",
        "colab_type": "text"
      },
      "source": [
        "<a href=\"https://colab.research.google.com/github/koseii2122/LSTM-POS-Torch/blob/main/POS_Torch.ipynb\" target=\"_parent\"><img src=\"https://colab.research.google.com/assets/colab-badge.svg\" alt=\"Open In Colab\"/></a>"
      ]
    },
    {
      "cell_type": "code",
      "execution_count": null,
      "metadata": {
        "id": "aw00pgLdYOop"
      },
      "outputs": [],
      "source": [
        "import pandas as pd\n",
        "import torch\n",
        "import torch.nn as nn\n",
        "import torch.optim as optim\n",
        "from torch.utils.data import Dataset, DataLoader"
      ]
    },
    {
      "cell_type": "code",
      "source": [
        "class POSDataset(Dataset):\n",
        "  def __init__(self, filepath):\n",
        "    self.data = pd.read_csv(filepath, encoding='ISO-8859-1').fillna(method='ffill')\n",
        "    self.words = list(set(self.data['Word'].values))\n",
        "    self.POS = list(set(self.data['POS'].values))\n",
        "\n",
        "    self.word2idx = {w: i + 1 for i, w in enumerate(self.words)}\n",
        "    self.pos2idx = {t: i for i, t in enumerate(self.POS)}\n",
        "\n",
        "    self.sentences = self._get_sentences()\n",
        "\n",
        "  def __len__(self):\n",
        "    return len(self.sentences)\n",
        "\n",
        "  def __getitem__(self, index):\n",
        "    sentence = self.sentences[index]\n",
        "    words = [word[0] for word in sentence]\n",
        "    pos = [word[1] for word in sentence]\n",
        "    x = [self.word2idx[w] for w in words]\n",
        "    y = [self.pos2idx[w] for w in pos]\n",
        "    return torch.tensor(x), torch.tensor(y)\n",
        "\n",
        "  def _get_sentences(self):\n",
        "    # Group the data by sentence number\n",
        "    grouped = self.data.groupby(\"Sentence #\")\n",
        "    sentences = []\n",
        "    for _, group in grouped:\n",
        "      words = group[\"Word\"].values.tolist()\n",
        "      pos = group[\"POS\"].values.tolist()\n",
        "      sentence = list(zip(words, pos))\n",
        "      sentences.append(sentence)\n",
        "    return sentences"
      ],
      "metadata": {
        "id": "O6EtSwGlZzCF"
      },
      "execution_count": null,
      "outputs": []
    },
    {
      "cell_type": "code",
      "source": [
        "# Define a simple LSTM-based model\n",
        "class POSModel(nn.Module):\n",
        "    def __init__(self, vocab_size, embedding_dim, hidden_dim, output_dim):\n",
        "        super().__init__()\n",
        "        self.embedding = nn.Embedding(vocab_size, embedding_dim)\n",
        "        self.lstm = nn.LSTM(embedding_dim, hidden_dim, batch_first=True)\n",
        "        self.fc = nn.Linear(hidden_dim, output_dim)\n",
        "\n",
        "    def forward(self, x):\n",
        "        embedded = self.embedding(x)\n",
        "        output, _ = self.lstm(embedded)\n",
        "        output = self.fc(output)\n",
        "        return output"
      ],
      "metadata": {
        "id": "qEzvZwHMfxPI"
      },
      "execution_count": null,
      "outputs": []
    },
    {
      "cell_type": "code",
      "source": [
        "# Define hyperparameters and train the model\n",
        "BATCH_SIZE = 32\n",
        "EMBEDDING_DIM = 128\n",
        "HIDDEN_DIM = 98\n",
        "LEARNING_RATE = 0.003\n",
        "EPOCHS = 4\n",
        "\n",
        "dataset = POSDataset(\"/content/ner_datasetreference.csv\")"
      ],
      "metadata": {
        "id": "rzDy_WF_f4bB"
      },
      "execution_count": null,
      "outputs": []
    },
    {
      "cell_type": "code",
      "source": [
        "train_size = int(0.8 * len(dataset))\n",
        "val_size = len(dataset) - train_size\n",
        "train_dataset, val_dataset = torch.utils.data.random_split(dataset, [train_size, val_size])"
      ],
      "metadata": {
        "id": "jooQ7jB9gGDd"
      },
      "execution_count": null,
      "outputs": []
    },
    {
      "cell_type": "code",
      "source": [
        "def collate_fn(batch):\n",
        "    x = [item[0] for item in batch]\n",
        "    y = [item[1] for item in batch]\n",
        "    x_lengths = [len(seq) for seq in x]\n",
        "    y_lengths = [len(seq) for seq in y]\n",
        "\n",
        "    # Pad the sequences to the same length\n",
        "    x = nn.utils.rnn.pad_sequence(x, batch_first=True)\n",
        "    y = nn.utils.rnn.pad_sequence(y, batch_first=True)\n",
        "\n",
        "    # Create a mask to ignore padding values in the loss calculation\n",
        "    x_mask = torch.arange(x.size(1))[None, :] < torch.tensor(x_lengths)[:, None]\n",
        "    y_mask = torch.arange(y.size(1))[None, :] < torch.tensor(y_lengths)[:, None]\n",
        "\n",
        "    return x, y, x_mask, y_mask"
      ],
      "metadata": {
        "id": "l7eocqMmgGsY"
      },
      "execution_count": null,
      "outputs": []
    },
    {
      "cell_type": "code",
      "source": [
        "train_loader = DataLoader(train_dataset, batch_size=BATCH_SIZE, shuffle=True,collate_fn = collate_fn)\n",
        "val_loader = DataLoader(val_dataset, batch_size=BATCH_SIZE, shuffle=False, collate_fn=collate_fn)"
      ],
      "metadata": {
        "id": "v8rSTFJMigD0"
      },
      "execution_count": null,
      "outputs": []
    },
    {
      "cell_type": "code",
      "source": [
        "for batch in train_loader:\n",
        "    print(batch[0],batch[1])\n",
        "    break\n"
      ],
      "metadata": {
        "colab": {
          "base_uri": "https://localhost:8080/"
        },
        "id": "o8-dnSqgijiq",
        "outputId": "c5ef5241-ef6e-4e42-9258-9ba6c50ba122"
      },
      "execution_count": null,
      "outputs": [
        {
          "output_type": "stream",
          "name": "stdout",
          "text": [
            "tensor([[17717, 10051, 31399,  ...,     0,     0,     0],\n",
            "        [13265, 22800, 33857,  ...,     0,     0,     0],\n",
            "        [21704, 23101, 10297,  ...,     0,     0,     0],\n",
            "        ...,\n",
            "        [15891, 32151, 10051,  ...,     0,     0,     0],\n",
            "        [34058, 19381, 12406,  ...,     0,     0,     0],\n",
            "        [ 1876, 18392,  9319,  ...,     0,     0,     0]]) tensor([[34, 28,  8,  ...,  0,  0,  0],\n",
            "        [37, 37, 35,  ...,  0,  0,  0],\n",
            "        [30, 21, 17,  ...,  0,  0,  0],\n",
            "        ...,\n",
            "        [ 7,  7, 28,  ...,  0,  0,  0],\n",
            "        [37, 35, 20,  ...,  0,  0,  0],\n",
            "        [13, 20,  7,  ...,  0,  0,  0]])\n"
          ]
        }
      ]
    },
    {
      "cell_type": "code",
      "source": [
        "model = POSModel(len(dataset.words) + 1, EMBEDDING_DIM, HIDDEN_DIM, len(dataset.POS))\n",
        "\n",
        "criterion = nn.CrossEntropyLoss()\n",
        "optimizer = optim.Adam(model.parameters(), lr=LEARNING_RATE)"
      ],
      "metadata": {
        "id": "tVapv5RxikB5"
      },
      "execution_count": null,
      "outputs": []
    },
    {
      "cell_type": "code",
      "source": [
        "for epoch in range(EPOCHS):\n",
        "    train_loss = 0.0\n",
        "    val_loss = 0.0\n",
        "    model.train()\n",
        "    for batch in train_loader:\n",
        "        x, y, x_mask, y_mask = batch\n",
        "        optimizer.zero_grad()\n",
        "        output = model(x)\n",
        "        loss = criterion(output.view(-1, len(dataset.POS)), y.view(-1))\n",
        "        loss.backward()\n",
        "        optimizer.step()\n",
        "        train_loss += loss.item() * x.size(0)\n",
        "\n",
        "    train_loss /= len(train_dataset)\n",
        "    model.eval()\n",
        "    with torch.no_grad():\n",
        "        for batch in val_loader:\n",
        "            x, y, x_mask, y_mask = batch\n",
        "            output = model(x)\n",
        "            loss = criterion(output.view(-1, len(dataset.POS)), y.view(-1))\n",
        "            val_loss += loss.item() * x.size(0)\n",
        "        val_loss /= len(val_dataset)\n",
        "\n",
        "    print(f\"Epoch {epoch+1}, Train Loss: {train_loss:.4f}, Val Loss: {val_loss:.4f}\")"
      ],
      "metadata": {
        "colab": {
          "base_uri": "https://localhost:8080/"
        },
        "id": "ysfbjBTiim8D",
        "outputId": "e8b30c88-528b-4a42-b219-3b2242d970b4"
      },
      "execution_count": null,
      "outputs": [
        {
          "output_type": "stream",
          "name": "stdout",
          "text": [
            "Epoch 1, Train Loss: 0.2493, Val Loss: 0.0894\n",
            "Epoch 2, Train Loss: 0.0600, Val Loss: 0.0668\n",
            "Epoch 3, Train Loss: 0.0358, Val Loss: 0.0647\n",
            "Epoch 4, Train Loss: 0.0254, Val Loss: 0.0671\n"
          ]
        }
      ]
    },
    {
      "cell_type": "code",
      "source": [
        "text = \"Such a stependous player.\"\n",
        "\n",
        "# Split the text into words\n",
        "words = text.split()\n",
        "\n",
        "# Convert words to numerical values using the word2idx dictionary\n",
        "x = [dataset.word2idx.get(word, 0) for word in words]\n",
        "\n",
        "# Convert the numerical values to a tensor and add a batch dimension\n",
        "x = torch.tensor(x).unsqueeze(0)\n",
        "\n",
        "# Pass the tensor through the model to get the predicted tags\n",
        "model.eval()\n",
        "with torch.no_grad():\n",
        "    output = model(x)\n",
        "    _, predicted_tags = torch.max(output, dim=2)\n",
        "\n",
        "# Convert the predicted tags back to their corresponding tag labels using the idx2tag dictionary\n",
        "predicted_tags = predicted_tags.squeeze().tolist()\n",
        "predicted_labels = [dataset.POS[idx] for idx in predicted_tags]\n",
        "print(predicted_labels)"
      ],
      "metadata": {
        "colab": {
          "base_uri": "https://localhost:8080/"
        },
        "id": "xKkq8iAfirST",
        "outputId": "9ffccbff-c1b8-42a8-dae9-fb89497d2111"
      },
      "execution_count": null,
      "outputs": [
        {
          "output_type": "stream",
          "name": "stdout",
          "text": [
            "['JJ', 'DT', 'JJR', 'JJR']\n"
          ]
        }
      ]
    },
    {
      "cell_type": "code",
      "source": [],
      "metadata": {
        "id": "F48rOqVci0PG"
      },
      "execution_count": null,
      "outputs": []
    }
  ]
}